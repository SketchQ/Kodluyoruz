{
 "cells": [
  {
   "attachments": {},
   "cell_type": "markdown",
   "metadata": {},
   "source": [
    "1. Bir listeyi düzleştiren (flatten) fonksiyon yazın. Elemanları birden çok katmanlı listelerden ([[3],2] gibi) oluşabileceği gibi, non-scalar verilerden de oluşabilir. Örnek olarak:\n",
    "\n",
    "### Input\n",
    "\n",
    "```python\n",
    "[[1,'a',['cat'],2],[[[3]],'dog'],4,5]\n",
    "```\n",
    "\n",
    "### Output\n",
    "\n",
    "```python\n",
    "[1,'a','cat',2,3,'dog',4,5]\n",
    "```"
   ]
  },
  {
   "cell_type": "code",
   "execution_count": 25,
   "metadata": {},
   "outputs": [
    {
     "name": "stdout",
     "output_type": "stream",
     "text": [
      "Original list [[1, 'a'], ['cat'], 2, [[[3]], 'dog'], 4, 5]\n",
      "Transformed Flat List [1, 'a', 'cat', 2, [[3]], 'dog', 4, 5]\n"
     ]
    }
   ],
   "source": [
    "def flatten_list(_2d_list):\n",
    "    flat_list = []\n",
    "    # Iterate through the outer list\n",
    "    for element in _2d_list:\n",
    "        if type(element) is list:\n",
    "            # If the element is of type list, iterate through the sublist\n",
    "            for item in element:\n",
    "                flat_list.append(item)\n",
    "        else:\n",
    "            flat_list.append(element)\n",
    "    return flat_list\n",
    "\n",
    "\n",
    "nested_list = [[1, 'a'], ['cat'], 2, [[[3]], 'dog'], 4, 5]\n",
    "print(f'Original list {nested_list}')\n",
    "print(f'Transformed Flat List {flatten_list(nested_list)}')"
   ]
  },
  {
   "attachments": {},
   "cell_type": "markdown",
   "metadata": {},
   "source": [
    "2. Verilen listenin içindeki elemanları tersine döndüren bir fonksiyon yazın. Eğer listenin içindeki elemanlar da liste içeriyorsa onların elemanlarını da tersine döndürün. Örnek olarak:\n",
    "\n",
    "### Input\n",
    "\n",
    "```python\n",
    "[[1, 2], [3, 4], [5, 6, 7]]\n",
    "```\n",
    "\n",
    "### Output\n",
    "\n",
    "```python\n",
    "[[[7, 6, 5], [4, 3], [2, 1]]\n",
    "```\n",
    "\n",
    "[Patika.dev](https://app.patika.dev/courses/python-temel/proje)"
   ]
  },
  {
   "cell_type": "code",
   "execution_count": 26,
   "metadata": {},
   "outputs": [
    {
     "name": "stdout",
     "output_type": "stream",
     "text": [
      "Original list [[1, 2], [3, 4], [5, 6, 7]]\n",
      "Reversed list [[7, 6, 5], [4, 3], [2, 1]]\n"
     ]
    }
   ],
   "source": [
    "l = [[1, 2], [3, 4], [5, 6, 7]]\n",
    "\n",
    "def reverse_nested_list(l):\n",
    "    for sub_list in l:\n",
    "        sub_list.reverse()\n",
    "    return l[::-1]\n",
    "\n",
    "print(f'Original list {l}')\n",
    "print(f'Reversed list {reverse_nested_list(l)}')"
   ]
  }
 ],
 "metadata": {
  "kernelspec": {
   "display_name": "base",
   "language": "python",
   "name": "python3"
  },
  "language_info": {
   "codemirror_mode": {
    "name": "ipython",
    "version": 3
   },
   "file_extension": ".py",
   "mimetype": "text/x-python",
   "name": "python",
   "nbconvert_exporter": "python",
   "pygments_lexer": "ipython3",
   "version": "3.10.9"
  },
  "orig_nbformat": 4
 },
 "nbformat": 4,
 "nbformat_minor": 2
}
